{
 "cells": [
  {
   "cell_type": "markdown",
   "id": "dac98928",
   "metadata": {},
   "source": [
    "### Hi this is my First Python Project"
   ]
  },
  {
   "cell_type": "markdown",
   "id": "1378eb10",
   "metadata": {},
   "source": [
    "### Adding two numbers"
   ]
  },
  {
   "cell_type": "code",
   "execution_count": 1,
   "id": "a64a62d3",
   "metadata": {},
   "outputs": [],
   "source": [
    "def add_two_numbers(a,b):\n",
    "    sum = a+b\n",
    "    print(\"sum is \", sum)"
   ]
  },
  {
   "cell_type": "code",
   "execution_count": 2,
   "id": "2f7c2f6d",
   "metadata": {},
   "outputs": [
    {
     "name": "stdout",
     "output_type": "stream",
     "text": [
      "sum is  5\n"
     ]
    }
   ],
   "source": [
    "add_two_numbers(2,3)"
   ]
  },
  {
   "cell_type": "markdown",
   "id": "3afb1d5f",
   "metadata": {},
   "source": [
    "### Subtracting two numbers"
   ]
  },
  {
   "cell_type": "code",
   "execution_count": 3,
   "id": "3a98d95f",
   "metadata": {},
   "outputs": [],
   "source": [
    "def subtract_two_numbers(a,b):\n",
    "    diff=a-b\n",
    "    print(\"diff is\",diff)"
   ]
  },
  {
   "cell_type": "code",
   "execution_count": 4,
   "id": "9d280528",
   "metadata": {},
   "outputs": [
    {
     "name": "stdout",
     "output_type": "stream",
     "text": [
      "diff is 3\n"
     ]
    }
   ],
   "source": [
    "subtract_two_numbers(5,2)"
   ]
  },
  {
   "cell_type": "markdown",
   "id": "3409d75c",
   "metadata": {},
   "source": [
    "### Multiplying two numbers"
   ]
  },
  {
   "cell_type": "code",
   "execution_count": 6,
   "id": "a10f01cd",
   "metadata": {},
   "outputs": [],
   "source": [
    "def multiply_two_numbers(a,b):\n",
    "    mul=a*b\n",
    "    print(\"multiplication is\",mul)"
   ]
  },
  {
   "cell_type": "code",
   "execution_count": 7,
   "id": "203beb35",
   "metadata": {},
   "outputs": [
    {
     "name": "stdout",
     "output_type": "stream",
     "text": [
      "multiplication is 20\n"
     ]
    }
   ],
   "source": [
    "multiply_two_numbers(4,5)"
   ]
  },
  {
   "cell_type": "markdown",
   "id": "055d02a1",
   "metadata": {},
   "source": [
    "### Dividing two numbers"
   ]
  },
  {
   "cell_type": "code",
   "execution_count": 8,
   "id": "ae867a3b",
   "metadata": {},
   "outputs": [],
   "source": [
    "def divide_two_numbers(a,b):\n",
    "    div=a/b\n",
    "    print(\"division is\",div)"
   ]
  },
  {
   "cell_type": "code",
   "execution_count": 9,
   "id": "85d24f86",
   "metadata": {},
   "outputs": [
    {
     "name": "stdout",
     "output_type": "stream",
     "text": [
      "division is 5.0\n"
     ]
    }
   ],
   "source": [
    "divide_two_numbers(10,2)"
   ]
  },
  {
   "cell_type": "code",
   "execution_count": null,
   "id": "1e80e893",
   "metadata": {},
   "outputs": [],
   "source": []
  }
 ],
 "metadata": {
  "kernelspec": {
   "display_name": "Python 3 (ipykernel)",
   "language": "python",
   "name": "python3"
  },
  "language_info": {
   "codemirror_mode": {
    "name": "ipython",
    "version": 3
   },
   "file_extension": ".py",
   "mimetype": "text/x-python",
   "name": "python",
   "nbconvert_exporter": "python",
   "pygments_lexer": "ipython3",
   "version": "3.9.12"
  }
 },
 "nbformat": 4,
 "nbformat_minor": 5
}
